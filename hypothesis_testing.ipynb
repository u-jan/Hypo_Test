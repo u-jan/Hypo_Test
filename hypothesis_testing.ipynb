{
 "cells": [
  {
   "cell_type": "markdown",
   "metadata": {},
   "source": [
    "### Hypothesis Testing\n",
    "\n",
    "#### Part 1: Recap\n",
    "\n",
    "1.State which test should be used for the following scenarios to calculate p-values. Explain your choice.\n",
    "\n",
    "- You randomly select 50 dogs and 80 cats from a large animal shelter, and want to know if dogs and cats have the same weight.\n",
    "\n",
    "\n",
    "- A random sample of San Franciscans and Oaklanders were surveyed about their favorite baseball team, and you want to determine if the same proportion of people like the SF Giants."
   ]
  },
  {
   "cell_type": "markdown",
   "metadata": {},
   "source": [
    "***if dogs and cats have the same weight?***\n",
    "\n",
    "Differences of means --> t-test (normally)\n",
    "\n",
    "A two sample t-test would be appropriate here _provided_ we can assume the weights of \n",
    "dogs (and cats) is normally distributed as this is an assumption of the t-test; On the other hand, with sample sizes above 30 the t-test will give nearly identical results to a z-test.(Central Limit Theorem)\n",
    "\n",
    "\n",
    "- Ho: mdogs - mcats = 0  --> no difference\n",
    "- Ha: mdogs - mcats != 0 --> difference\n",
    "\n",
    "\n",
    "- significance level alpha a = 0.05\n",
    "\n",
    "Z test for differences of means.\n"
   ]
  },
  {
   "cell_type": "markdown",
   "metadata": {},
   "source": [
    "***if the same proportion of people like the SF Giants?***\n",
    "\n",
    "Like or not? vote or not? etc. These sound familiar to Bernoulli random variable with binary results. In other words we may perceive sample sizes as binomial distributions.\n",
    "\n",
    "Ho: psf - poak = 0 (same proportion)\n",
    "Ha: psf - poak != 0 (different proportion)\n",
    "\n",
    "Two tailed test, with zombined Z value to find p-values."
   ]
  },
  {
   "cell_type": "markdown",
   "metadata": {},
   "source": [
    "2.A study attempted to measure the influence of patients' astrological signs on their risk for heart failure. 12 groups of patients (1 group for each astrological sign) were reviewed and the incidence of heart failure in each group was recorded.\n",
    "\n",
    "For each of the 12 groups, the researchers performed a z-test comparing the incidence of heart failure in one group to the incidence among the patients of all the other groups (i.e. 12 tests). The group with the highest rate of heart failure was Pisces, which had a p-value of .026 when assessing the null hypothesis that it had the same heart failure rate as the group with the lowest heart failure rate, Leo. What is the the problem with concluding from this p-value that Pisces have a higher rate of heart failure than Leos at a significance level of 0.05? How might you adjust your interpretation of this p-value?"
   ]
  },
  {
   "cell_type": "markdown",
   "metadata": {},
   "source": [
    "- Highest heart failure rate sign: pisces\n",
    "- Lowest heart failure rate sign: leo\n",
    "\n",
    "\n",
    "- Ho: Hp - Hl <= 0\n",
    "- Ha: Hp - Hl >0 \n",
    "- 12 groups --> ?? 12 tests\n",
    "- resulting p-value = 0.026\n",
    "- significance level a = 0.05\n",
    "\n",
    "The problem is performing multiple tests at the 0.05 significance level which does not work at all because such significance level should be distributed among all the comparisons.\n",
    "\n",
    "Also do we have 12 comparisons because we have 12 groups? The answer is definetly no. Instead there are 12 choose 2 pairwise combinations on this senario.\n",
    "\n",
    "To fix that we should gi with Bonferonni correction which also means that we should divide the initial significance level to the number of comparisons to compare each significance level to individual p-values of the comparisons.\n",
    "\n",
    "With the following code we will find the alpha corresponding to each comparison."
   ]
  },
  {
   "cell_type": "code",
   "execution_count": 1,
   "metadata": {},
   "outputs": [
    {
     "data": {
      "text/plain": [
       "66"
      ]
     },
     "execution_count": 1,
     "metadata": {},
     "output_type": "execute_result"
    }
   ],
   "source": [
    "# there are way easier ways to do this considering the computing power\n",
    "# I am simply playing\n",
    "\n",
    "from itertools import combinations\n",
    "\n",
    "sign_numbers = [1,2,3,4,5,6,7,8,9,10,11,12]\n",
    "comb = combinations(sign_numbers, 2)\n",
    "\n",
    "number_of_comparisons = 0\n",
    "for i in range(len(list(comb))):\n",
    "    number_of_comparisons += 1\n",
    "\n",
    "number_of_comparisons"
   ]
  },
  {
   "cell_type": "code",
   "execution_count": 2,
   "metadata": {},
   "outputs": [
    {
     "data": {
      "text/plain": [
       "0.0007575757575757576"
      ]
     },
     "execution_count": 2,
     "metadata": {},
     "output_type": "execute_result"
    }
   ],
   "source": [
    "initial_alpha = 0.05\n",
    "alpha = initial_alpha / number_of_comparisons\n",
    "alpha"
   ]
  },
  {
   "cell_type": "markdown",
   "metadata": {},
   "source": [
    "Originally and mistakenly we would reject the null hypothesis that there heart failure rate of leo is same with that of pisces.\n",
    "\n",
    "0.026 < 0.05\n",
    "\n",
    "Because p-value 0.026 is lower than significance level 0.05 and we would perceive it as such an extreme result that the null hypothesis can not be true!\n",
    "\n",
    "***YET!*** We have a new and more accurate alpha value given that there are 66 comparisons among 12 groups.\n",
    "\n",
    "p-value > alpha\n",
    "0.026   >  0.0007575\n",
    "\n",
    "Interpreting such comparison: the p-value is so high that the we fail to reject null hypothesis.\n"
   ]
  },
  {
   "cell_type": "markdown",
   "metadata": {},
   "source": [
    "### Part 2: Analyzing Click Through Rate\n",
    "\n",
    "We will use hypothesis testing to analyze Click Through Rate (CTR) on the New York Times website. CTR is defined as the number of clicks a user makes per impression that is made upon the user. We are going to determine if there is statistically significant difference between the mean CTR for the following groups:\n",
    "\n",
    "1. Signed in users v.s. Not signed in users\n",
    "2. Male v.s. Female\n",
    "3. Each of 7 age groups against each other (7 choose 2 = 21 tests)\n",
    "\n",
    "\n",
    "1.Calculate the adjustment needed to account for multiple testing at the 0.05 significance level.\n"
   ]
  },
  {
   "cell_type": "code",
   "execution_count": 3,
   "metadata": {},
   "outputs": [],
   "source": [
    "import warnings\n",
    "warnings.filterwarnings('ignore')"
   ]
  },
  {
   "cell_type": "markdown",
   "metadata": {},
   "source": [
    "All together there are 1+1+21=23 tests.\n",
    "So get a 0.05 family wise error rate we would compare the tested p-values to 0.05/23."
   ]
  },
  {
   "cell_type": "markdown",
   "metadata": {},
   "source": [
    "number of comparisons, number of tests ah they are all the same and insane!"
   ]
  },
  {
   "cell_type": "code",
   "execution_count": 4,
   "metadata": {},
   "outputs": [],
   "source": [
    "alpha = 0.05 / 23 # gives us the significance level for this particular senario"
   ]
  },
  {
   "cell_type": "code",
   "execution_count": 5,
   "metadata": {},
   "outputs": [
    {
     "data": {
      "text/plain": [
       "0.002173913043478261"
      ]
     },
     "execution_count": 5,
     "metadata": {},
     "output_type": "execute_result"
    }
   ],
   "source": [
    "alpha"
   ]
  },
  {
   "cell_type": "markdown",
   "metadata": {},
   "source": [
    "Lets see what we have within the data."
   ]
  },
  {
   "cell_type": "code",
   "execution_count": 6,
   "metadata": {},
   "outputs": [],
   "source": [
    "import pandas as pd"
   ]
  },
  {
   "cell_type": "code",
   "execution_count": 7,
   "metadata": {},
   "outputs": [],
   "source": [
    "df = pd.read_csv('data/nyt1.csv')"
   ]
  },
  {
   "cell_type": "code",
   "execution_count": 8,
   "metadata": {},
   "outputs": [
    {
     "data": {
      "text/html": [
       "<div>\n",
       "<style>\n",
       "    .dataframe thead tr:only-child th {\n",
       "        text-align: right;\n",
       "    }\n",
       "\n",
       "    .dataframe thead th {\n",
       "        text-align: left;\n",
       "    }\n",
       "\n",
       "    .dataframe tbody tr th {\n",
       "        vertical-align: top;\n",
       "    }\n",
       "</style>\n",
       "<table border=\"1\" class=\"dataframe\">\n",
       "  <thead>\n",
       "    <tr style=\"text-align: right;\">\n",
       "      <th></th>\n",
       "      <th>Age</th>\n",
       "      <th>Gender</th>\n",
       "      <th>Impressions</th>\n",
       "      <th>Clicks</th>\n",
       "      <th>Signed_In</th>\n",
       "    </tr>\n",
       "  </thead>\n",
       "  <tbody>\n",
       "    <tr>\n",
       "      <th>0</th>\n",
       "      <td>36</td>\n",
       "      <td>0</td>\n",
       "      <td>3</td>\n",
       "      <td>0</td>\n",
       "      <td>1</td>\n",
       "    </tr>\n",
       "    <tr>\n",
       "      <th>1</th>\n",
       "      <td>73</td>\n",
       "      <td>1</td>\n",
       "      <td>3</td>\n",
       "      <td>0</td>\n",
       "      <td>1</td>\n",
       "    </tr>\n",
       "    <tr>\n",
       "      <th>2</th>\n",
       "      <td>30</td>\n",
       "      <td>0</td>\n",
       "      <td>3</td>\n",
       "      <td>0</td>\n",
       "      <td>1</td>\n",
       "    </tr>\n",
       "    <tr>\n",
       "      <th>3</th>\n",
       "      <td>49</td>\n",
       "      <td>1</td>\n",
       "      <td>3</td>\n",
       "      <td>0</td>\n",
       "      <td>1</td>\n",
       "    </tr>\n",
       "    <tr>\n",
       "      <th>4</th>\n",
       "      <td>47</td>\n",
       "      <td>1</td>\n",
       "      <td>11</td>\n",
       "      <td>0</td>\n",
       "      <td>1</td>\n",
       "    </tr>\n",
       "  </tbody>\n",
       "</table>\n",
       "</div>"
      ],
      "text/plain": [
       "   Age  Gender  Impressions  Clicks  Signed_In\n",
       "0   36       0            3       0          1\n",
       "1   73       1            3       0          1\n",
       "2   30       0            3       0          1\n",
       "3   49       1            3       0          1\n",
       "4   47       1           11       0          1"
      ]
     },
     "execution_count": 8,
     "metadata": {},
     "output_type": "execute_result"
    }
   ],
   "source": [
    "df.head()"
   ]
  },
  {
   "cell_type": "code",
   "execution_count": 9,
   "metadata": {},
   "outputs": [
    {
     "name": "stdout",
     "output_type": "stream",
     "text": [
      "<class 'pandas.core.frame.DataFrame'>\n",
      "RangeIndex: 458441 entries, 0 to 458440\n",
      "Data columns (total 5 columns):\n",
      "Age            458441 non-null int64\n",
      "Gender         458441 non-null int64\n",
      "Impressions    458441 non-null int64\n",
      "Clicks         458441 non-null int64\n",
      "Signed_In      458441 non-null int64\n",
      "dtypes: int64(5)\n",
      "memory usage: 17.5 MB\n"
     ]
    }
   ],
   "source": [
    "df.info()"
   ]
  },
  {
   "cell_type": "code",
   "execution_count": 10,
   "metadata": {},
   "outputs": [
    {
     "data": {
      "text/html": [
       "<div>\n",
       "<style>\n",
       "    .dataframe thead tr:only-child th {\n",
       "        text-align: right;\n",
       "    }\n",
       "\n",
       "    .dataframe thead th {\n",
       "        text-align: left;\n",
       "    }\n",
       "\n",
       "    .dataframe tbody tr th {\n",
       "        vertical-align: top;\n",
       "    }\n",
       "</style>\n",
       "<table border=\"1\" class=\"dataframe\">\n",
       "  <thead>\n",
       "    <tr style=\"text-align: right;\">\n",
       "      <th></th>\n",
       "      <th>Age</th>\n",
       "      <th>Gender</th>\n",
       "      <th>Impressions</th>\n",
       "      <th>Clicks</th>\n",
       "      <th>Signed_In</th>\n",
       "    </tr>\n",
       "  </thead>\n",
       "  <tbody>\n",
       "    <tr>\n",
       "      <th>count</th>\n",
       "      <td>458441.000000</td>\n",
       "      <td>458441.000000</td>\n",
       "      <td>458441.000000</td>\n",
       "      <td>458441.000000</td>\n",
       "      <td>458441.000000</td>\n",
       "    </tr>\n",
       "    <tr>\n",
       "      <th>mean</th>\n",
       "      <td>29.482551</td>\n",
       "      <td>0.367037</td>\n",
       "      <td>5.007316</td>\n",
       "      <td>0.092594</td>\n",
       "      <td>0.700930</td>\n",
       "    </tr>\n",
       "    <tr>\n",
       "      <th>std</th>\n",
       "      <td>23.607034</td>\n",
       "      <td>0.481997</td>\n",
       "      <td>2.239349</td>\n",
       "      <td>0.309973</td>\n",
       "      <td>0.457851</td>\n",
       "    </tr>\n",
       "    <tr>\n",
       "      <th>min</th>\n",
       "      <td>0.000000</td>\n",
       "      <td>0.000000</td>\n",
       "      <td>0.000000</td>\n",
       "      <td>0.000000</td>\n",
       "      <td>0.000000</td>\n",
       "    </tr>\n",
       "    <tr>\n",
       "      <th>25%</th>\n",
       "      <td>0.000000</td>\n",
       "      <td>0.000000</td>\n",
       "      <td>3.000000</td>\n",
       "      <td>0.000000</td>\n",
       "      <td>0.000000</td>\n",
       "    </tr>\n",
       "    <tr>\n",
       "      <th>50%</th>\n",
       "      <td>31.000000</td>\n",
       "      <td>0.000000</td>\n",
       "      <td>5.000000</td>\n",
       "      <td>0.000000</td>\n",
       "      <td>1.000000</td>\n",
       "    </tr>\n",
       "    <tr>\n",
       "      <th>75%</th>\n",
       "      <td>48.000000</td>\n",
       "      <td>1.000000</td>\n",
       "      <td>6.000000</td>\n",
       "      <td>0.000000</td>\n",
       "      <td>1.000000</td>\n",
       "    </tr>\n",
       "    <tr>\n",
       "      <th>max</th>\n",
       "      <td>108.000000</td>\n",
       "      <td>1.000000</td>\n",
       "      <td>20.000000</td>\n",
       "      <td>4.000000</td>\n",
       "      <td>1.000000</td>\n",
       "    </tr>\n",
       "  </tbody>\n",
       "</table>\n",
       "</div>"
      ],
      "text/plain": [
       "                 Age         Gender    Impressions         Clicks  \\\n",
       "count  458441.000000  458441.000000  458441.000000  458441.000000   \n",
       "mean       29.482551       0.367037       5.007316       0.092594   \n",
       "std        23.607034       0.481997       2.239349       0.309973   \n",
       "min         0.000000       0.000000       0.000000       0.000000   \n",
       "25%         0.000000       0.000000       3.000000       0.000000   \n",
       "50%        31.000000       0.000000       5.000000       0.000000   \n",
       "75%        48.000000       1.000000       6.000000       0.000000   \n",
       "max       108.000000       1.000000      20.000000       4.000000   \n",
       "\n",
       "           Signed_In  \n",
       "count  458441.000000  \n",
       "mean        0.700930  \n",
       "std         0.457851  \n",
       "min         0.000000  \n",
       "25%         0.000000  \n",
       "50%         1.000000  \n",
       "75%         1.000000  \n",
       "max         1.000000  "
      ]
     },
     "execution_count": 10,
     "metadata": {},
     "output_type": "execute_result"
    }
   ],
   "source": [
    "df.describe()"
   ]
  },
  {
   "cell_type": "markdown",
   "metadata": {},
   "source": [
    "Alright, we are interested in conversion rates and we don't have cr at the moment. So lets create a conversion rate column.\n",
    "\n",
    "CTR = Clicks / Impressions\n",
    "\n",
    "In other words, we shall get rid of rows that have 0 Impressions."
   ]
  },
  {
   "cell_type": "code",
   "execution_count": 11,
   "metadata": {},
   "outputs": [],
   "source": [
    "n_rows_before = df.shape[0]  #number of rows before"
   ]
  },
  {
   "cell_type": "code",
   "execution_count": 12,
   "metadata": {},
   "outputs": [],
   "source": [
    "df = df[df['Impressions'] != 0]"
   ]
  },
  {
   "cell_type": "code",
   "execution_count": 13,
   "metadata": {},
   "outputs": [
    {
     "data": {
      "text/plain": [
       "0.9933121164991787"
      ]
     },
     "execution_count": 13,
     "metadata": {},
     "output_type": "execute_result"
    }
   ],
   "source": [
    "df.shape[0] / n_rows_before"
   ]
  },
  {
   "cell_type": "markdown",
   "metadata": {},
   "source": [
    "Great, we lost less than 1% of our data!\n",
    "\n",
    "Creating CTR"
   ]
  },
  {
   "cell_type": "code",
   "execution_count": 14,
   "metadata": {},
   "outputs": [],
   "source": [
    "df['CTR'] = df.Clicks / df['Impressions'].astype(float)"
   ]
  },
  {
   "cell_type": "markdown",
   "metadata": {},
   "source": [
    "I want to see what is happening with my data. Its a habbit, an addiction and passion."
   ]
  },
  {
   "cell_type": "code",
   "execution_count": 15,
   "metadata": {},
   "outputs": [
    {
     "data": {
      "text/html": [
       "<div>\n",
       "<style>\n",
       "    .dataframe thead tr:only-child th {\n",
       "        text-align: right;\n",
       "    }\n",
       "\n",
       "    .dataframe thead th {\n",
       "        text-align: left;\n",
       "    }\n",
       "\n",
       "    .dataframe tbody tr th {\n",
       "        vertical-align: top;\n",
       "    }\n",
       "</style>\n",
       "<table border=\"1\" class=\"dataframe\">\n",
       "  <thead>\n",
       "    <tr style=\"text-align: right;\">\n",
       "      <th></th>\n",
       "      <th>Age</th>\n",
       "      <th>Gender</th>\n",
       "      <th>Impressions</th>\n",
       "      <th>Clicks</th>\n",
       "      <th>Signed_In</th>\n",
       "      <th>CTR</th>\n",
       "    </tr>\n",
       "  </thead>\n",
       "  <tbody>\n",
       "    <tr>\n",
       "      <th>0</th>\n",
       "      <td>36</td>\n",
       "      <td>0</td>\n",
       "      <td>3</td>\n",
       "      <td>0</td>\n",
       "      <td>1</td>\n",
       "      <td>0.0</td>\n",
       "    </tr>\n",
       "  </tbody>\n",
       "</table>\n",
       "</div>"
      ],
      "text/plain": [
       "   Age  Gender  Impressions  Clicks  Signed_In  CTR\n",
       "0   36       0            3       0          1  0.0"
      ]
     },
     "execution_count": 15,
     "metadata": {},
     "output_type": "execute_result"
    }
   ],
   "source": [
    "df.head(1)"
   ]
  },
  {
   "cell_type": "code",
   "execution_count": 16,
   "metadata": {},
   "outputs": [],
   "source": [
    "import matplotlib.pyplot as plt\n",
    "\n",
    "def plot_hist(df, title, color):\n",
    "    df.hist(figsize=(12, 5), sharey=True, grid=False, color=color, alpha=0.5)\n",
    "    plt.suptitle(title, size=18, weight='bold')\n",
    "    plt.tight_layout()\n",
    "    plt.show()"
   ]
  },
  {
   "cell_type": "code",
   "execution_count": 17,
   "metadata": {},
   "outputs": [
    {
     "data": {
      "image/png": "[encoded data removed]",
      "text/plain": [
       "<Figure size 864x360 with 6 Axes>"
      ]
     },
     "metadata": {
      "needs_background": "light"
     },
     "output_type": "display_data"
    }
   ],
   "source": [
    "plot_hist(df, 'Click Through Rate Data', 'g')"
   ]
  },
  {
   "cell_type": "markdown",
   "metadata": {},
   "source": [
    "### Signed In vs Not Signed In\n",
    "\n",
    "At this point I am curious about the users that are Signed_In and not signed in. I assume there can be some behavioral differences between these groups. Let us see."
   ]
  },
  {
   "cell_type": "code",
   "execution_count": 18,
   "metadata": {},
   "outputs": [],
   "source": [
    "df_sin = df[df.Signed_In == 1].copy()\n",
    "df_not_sin = df[df['Signed_In'] == 0].copy()"
   ]
  },
  {
   "cell_type": "code",
   "execution_count": 19,
   "metadata": {},
   "outputs": [
    {
     "name": "stdout",
     "output_type": "stream",
     "text": [
      "<class 'pandas.core.frame.DataFrame'>\n",
      "Int64Index: 319198 entries, 0 to 458438\n",
      "Data columns (total 6 columns):\n",
      "Age            319198 non-null int64\n",
      "Gender         319198 non-null int64\n",
      "Impressions    319198 non-null int64\n",
      "Clicks         319198 non-null int64\n",
      "Signed_In      319198 non-null int64\n",
      "CTR            319198 non-null float64\n",
      "dtypes: float64(1), int64(5)\n",
      "memory usage: 17.0 MB\n"
     ]
    }
   ],
   "source": [
    "df_sin.info()"
   ]
  },
  {
   "cell_type": "code",
   "execution_count": 20,
   "metadata": {},
   "outputs": [
    {
     "name": "stdout",
     "output_type": "stream",
     "text": [
      "<class 'pandas.core.frame.DataFrame'>\n",
      "Int64Index: 136177 entries, 6 to 458440\n",
      "Data columns (total 6 columns):\n",
      "Age            136177 non-null int64\n",
      "Gender         136177 non-null int64\n",
      "Impressions    136177 non-null int64\n",
      "Clicks         136177 non-null int64\n",
      "Signed_In      136177 non-null int64\n",
      "CTR            136177 non-null float64\n",
      "dtypes: float64(1), int64(5)\n",
      "memory usage: 7.3 MB\n"
     ]
    }
   ],
   "source": [
    "df_not_sin.info()"
   ]
  },
  {
   "cell_type": "code",
   "execution_count": 21,
   "metadata": {},
   "outputs": [
    {
     "data": {
      "image/png": "[encoded data removed]",
      "text/plain": [
       "<Figure size 864x360 with 6 Axes>"
      ]
     },
     "metadata": {
      "needs_background": "light"
     },
     "output_type": "display_data"
    }
   ],
   "source": [
    "plot_hist(df_sin, 'Click Through Rate Data for signed in users', 'g')"
   ]
  },
  {
   "cell_type": "code",
   "execution_count": 22,
   "metadata": {},
   "outputs": [
    {
     "data": {
      "image/png": "[encoded data removed]",
      "text/plain": [
       "<Figure size 864x360 with 6 Axes>"
      ]
     },
     "metadata": {
      "needs_background": "light"
     },
     "output_type": "display_data"
    }
   ],
   "source": [
    "plot_hist(df_not_sin, 'Click Through Rate Data for signed in users', 'r')"
   ]
  },
  {
   "cell_type": "markdown",
   "metadata": {},
   "source": [
    "Okay this tells us a story, yet I am into beauty and details."
   ]
  },
  {
   "cell_type": "code",
   "execution_count": 23,
   "metadata": {},
   "outputs": [
    {
     "data": {
      "image/png": "[encoded data removed]",
      "text/plain": [
       "<Figure size 864x360 with 6 Axes>"
      ]
     },
     "metadata": {
      "needs_background": "light"
     },
     "output_type": "display_data"
    }
   ],
   "source": [
    "import numpy as np\n",
    "\n",
    "fig, axs = plt.subplots(2, 3, figsize=(12, 5))\n",
    "for col_name, ax in zip(df_sin.columns, axs.flatten()):\n",
    "    bins = np.linspace(df[col_name].min(), df[col_name].max(), 20)\n",
    "    ax.hist(df_sin[col_name], bins=bins, alpha=0.5,\n",
    "            normed=1, label=\"Signed In\", color='g')\n",
    "    ax.hist(df_not_sin[col_name], bins=bins, alpha=0.5,\n",
    "            normed=1, label=\"Not Signed In\", color='b')\n",
    "    ax.set_title(col_name)\n",
    "    ax.legend(loc='best')\n",
    "\n",
    "plt.tight_layout()\n",
    "plt.show()"
   ]
  },
  {
   "cell_type": "code",
   "execution_count": 24,
   "metadata": {},
   "outputs": [
    {
     "data": {
      "image/png": "[encoded data removed]",
      "text/plain": [
       "<Figure size 864x360 with 6 Axes>"
      ]
     },
     "metadata": {
      "needs_background": "light"
     },
     "output_type": "display_data"
    }
   ],
   "source": [
    "fig, axs = plt.subplots(2, 3, figsize=(12, 5))\n",
    "for col_name, ax in zip(df_sin.columns, axs.flatten()):\n",
    "    bins = np.linspace(df[col_name].min(), df[col_name].max(), 20)\n",
    "    height, binz = np.histogram(df_sin[col_name], bins=bins, normed=1)\n",
    "    bp1 = ax.bar(bins[:-1], height, .5*(bins[1]-bins[0]),\n",
    "                 alpha=0.5, label=\"Signed In\", color='g')\n",
    "    height, binz = np.histogram(df_not_sin[col_name], bins=bins, normed=1)\n",
    "    bp2 = ax.bar(bins[:-1]+.5*(bins[1]-bins[0]), height,\n",
    "                 .5*(bins[1]-bins[0]), color='b', alpha=.5)\n",
    "    ax.set_title(col_name)\n",
    "    ax.legend((bp1[0], bp2[0]), (\"Signed In\", \"Not Signed In\"), loc='best')\n",
    "\n",
    "plt.tight_layout()\n",
    "plt.show()"
   ]
  },
  {
   "cell_type": "markdown",
   "metadata": {},
   "source": [
    "Impressions present similar distributions , on the other hand there is a significant difference about click patterns. While there are fewer individuals _not_ logged in,\n",
    "they actually appear to perhaps have a higher CTR\n",
    "compared to those who _are_ logged in.\n",
    "\n",
    "Enough eyeballing. Time for some data science. Will use a Welch's t-test to determine if the mean CTR between the signed-in users and the non-signed-in users is statistically different. \n",
    "\n",
    "The Welch's t-test, unlike Student's t-test, does not assume the two populations from which the samples are drawn have the same variance.\n",
    "\n",
    "Testing\n",
    "the null hypothesis that the mean CTRs of the populations are equal between signed in and not signed in users."
   ]
  },
  {
   "cell_type": "code",
   "execution_count": 25,
   "metadata": {},
   "outputs": [
    {
     "data": {
      "text/plain": [
       "Ttest_indResult(statistic=-55.37611793426087, pvalue=0.0)"
      ]
     },
     "execution_count": 25,
     "metadata": {},
     "output_type": "execute_result"
    }
   ],
   "source": [
    "import scipy.stats as stats\n",
    "\n",
    "stats.ttest_ind(df_sin.CTR, df_not_sin.CTR, equal_var=False)"
   ]
  },
  {
   "cell_type": "markdown",
   "metadata": {},
   "source": [
    "Alright, we ran a Welch's t-test due to difference of distributions and found out that;\n",
    "\n",
    "- pvalue = 0.0 \n",
    "- statistic = -55.37\n",
    "\n",
    "Lets see what these numbers mean.\n",
    "\n",
    "For users who are logged on as opposed to not logged on and shows that this is extremely unlikely to have been observed by pure luck if the null hypothesis was true because the p-value is so small that it registers as 0.0"
   ]
  },
  {
   "cell_type": "code",
   "execution_count": 26,
   "metadata": {},
   "outputs": [
    {
     "name": "stdout",
     "output_type": "stream",
     "text": [
      "Signed In Mean CTR: 0.01425363523213594\n",
      "Not Signed In Mean CTR: 0.028354907061657893\n",
      "diff in mean: 0.014101271829521953\n",
      "p value is: 0.0\n"
     ]
    },
    {
     "data": {
      "image/png": "[encoded data removed]",
      "text/plain": [
       "<Figure size 432x288 with 1 Axes>"
      ]
     },
     "metadata": {
      "needs_background": "light"
     },
     "output_type": "display_data"
    }
   ],
   "source": [
    "def plot_t_test(group_1_df, group_2_df, group_1_name, group_2_name):\n",
    "    fig = plt.figure()\n",
    "    group_1_mean = group_1_df['CTR'].mean()\n",
    "    group_2_mean = group_2_df['CTR'].mean()\n",
    "\n",
    "    print('%s Mean CTR: %s' % (group_1_name, group_1_mean))\n",
    "    print('%s Mean CTR: %s' % (group_2_name, group_2_mean))\n",
    "    print('diff in mean:', abs(group_2_mean-group_1_mean))\n",
    "    p_val = stats.ttest_ind(group_1_df['CTR'], group_2_df['CTR'], equal_var=False)[1]\n",
    "    print('p value is:', p_val)\n",
    "\n",
    "    group_1_df['CTR'].hist(normed=True, label=group_1_name, color='g', alpha=0.3)\n",
    "    group_2_df['CTR'].hist(normed=True, label=group_2_name, color='r', alpha=0.3)\n",
    "    plt.axvline(group_1_mean, color='r', alpha=0.6, lw=2)\n",
    "    plt.axvline(group_2_mean, color='g', alpha=0.6, lw=2)\n",
    "\n",
    "    plt.ylabel('Probability Density')\n",
    "    plt.xlabel('CTR')\n",
    "    plt.legend()\n",
    "    plt.grid('off')\n",
    "    plt.show()\n",
    "\n",
    "plot_t_test(df_sin, df_not_sin, 'Signed In', 'Not Signed In')"
   ]
  },
  {
   "cell_type": "markdown",
   "metadata": {},
   "source": [
    "***FEMALE VS MALE***  (are we all same or not)"
   ]
  },
  {
   "cell_type": "code",
   "execution_count": 27,
   "metadata": {},
   "outputs": [
    {
     "name": "stdout",
     "output_type": "stream",
     "text": [
      "M Mean CTR: 0.01391852429759764\n",
      "F Mean CTR: 0.014622012183866056\n",
      "diff in mean: 0.0007034878862684155\n",
      "p value is: 0.0010028527313147612\n"
     ]
    },
    {
     "data": {
      "image/png": "[encoded data removed]",
      "text/plain": [
       "<Figure size 432x288 with 1 Axes>"
      ]
     },
     "metadata": {
      "needs_background": "light"
     },
     "output_type": "display_data"
    }
   ],
   "source": [
    "male = df_sin[df_sin.Gender == 1]\n",
    "female = df_sin[df_sin.Gender == 0]\n",
    "# Note that users *MUST* be signed in to evaluate gender otherwise data is missing.\n",
    "plot_t_test(male, female, 'M', 'F')"
   ]
  },
  {
   "cell_type": "code",
   "execution_count": 28,
   "metadata": {},
   "outputs": [
    {
     "name": "stdout",
     "output_type": "stream",
     "text": [
      "F Mean CTR: 0.014622012183866056\n",
      "M Mean CTR: 0.01391852429759764\n",
      "diff in mean: 0.0007034878862684155\n",
      "p value is: 0.0010028527313147612\n"
     ]
    },
    {
     "data": {
      "image/png": "[encoded data removed]",
      "text/plain": [
       "<Figure size 432x288 with 1 Axes>"
      ]
     },
     "metadata": {
      "needs_background": "light"
     },
     "output_type": "display_data"
    }
   ],
   "source": [
    "plot_t_test(female, male, 'F', 'M')"
   ]
  },
  {
   "cell_type": "markdown",
   "metadata": {},
   "source": [
    "#### Conclusion\n",
    "\n",
    "By eyeballing there is no significant difference on conversion rates when it comes to gender comparison. Yet pvalue tells a different story."
   ]
  },
  {
   "cell_type": "code",
   "execution_count": 29,
   "metadata": {},
   "outputs": [
    {
     "data": {
      "text/plain": [
       "Ttest_indResult(statistic=-3.289756065935106, pvalue=0.0010028527313147612)"
      ]
     },
     "execution_count": 29,
     "metadata": {},
     "output_type": "execute_result"
    }
   ],
   "source": [
    "stats.ttest_ind(male.CTR, female.CTR, equal_var=False)"
   ]
  },
  {
   "cell_type": "markdown",
   "metadata": {},
   "source": [
    "The difference in CTR between signed in and non-signed users is more\n",
    "worthy of further investigation since the difference in CTR is greater.\n",
    "The female/male CTR difference is only marginally significant (0.0010 < 0.00217).\n",
    "The signed-in/non_signed CTR difference is more significant than that of\n",
    "male/female (0.0 < 0.00217)."
   ]
  },
  {
   "cell_type": "markdown",
   "metadata": {},
   "source": [
    "### Age Groups\n",
    "\n",
    "'(18, 24]', '(24, 34]', '(34, 44]', '(44, 54]', '(54, 64]', '(64, 1000]', '(7, 18]'\n",
    "\n",
    "Cut that data frame, given agegroups and add a new column called age_groups.\n",
    "\n",
    "As a reminder, again we are using only the signed in data because we do not have access to age data of non signed in users."
   ]
  },
  {
   "cell_type": "code",
   "execution_count": 30,
   "metadata": {},
   "outputs": [],
   "source": [
    "df_sin['age_groups'] = pd.cut(df_sin['Age'],\n",
    "                                    [7, 18, 24, 34, 44, 54, 64, 1000],\n",
    "                                    include_lowest=True)"
   ]
  },
  {
   "cell_type": "code",
   "execution_count": 31,
   "metadata": {},
   "outputs": [
    {
     "data": {
      "text/html": [
       "<div>\n",
       "<style>\n",
       "    .dataframe thead tr:only-child th {\n",
       "        text-align: right;\n",
       "    }\n",
       "\n",
       "    .dataframe thead th {\n",
       "        text-align: left;\n",
       "    }\n",
       "\n",
       "    .dataframe tbody tr th {\n",
       "        vertical-align: top;\n",
       "    }\n",
       "</style>\n",
       "<table border=\"1\" class=\"dataframe\">\n",
       "  <thead>\n",
       "    <tr style=\"text-align: right;\">\n",
       "      <th></th>\n",
       "      <th>Age</th>\n",
       "      <th>Gender</th>\n",
       "      <th>Impressions</th>\n",
       "      <th>Clicks</th>\n",
       "      <th>Signed_In</th>\n",
       "      <th>CTR</th>\n",
       "      <th>age_groups</th>\n",
       "    </tr>\n",
       "  </thead>\n",
       "  <tbody>\n",
       "    <tr>\n",
       "      <th>0</th>\n",
       "      <td>36</td>\n",
       "      <td>0</td>\n",
       "      <td>3</td>\n",
       "      <td>0</td>\n",
       "      <td>1</td>\n",
       "      <td>0.0</td>\n",
       "      <td>(34.0, 44.0]</td>\n",
       "    </tr>\n",
       "    <tr>\n",
       "      <th>1</th>\n",
       "      <td>73</td>\n",
       "      <td>1</td>\n",
       "      <td>3</td>\n",
       "      <td>0</td>\n",
       "      <td>1</td>\n",
       "      <td>0.0</td>\n",
       "      <td>(64.0, 1000.0]</td>\n",
       "    </tr>\n",
       "    <tr>\n",
       "      <th>2</th>\n",
       "      <td>30</td>\n",
       "      <td>0</td>\n",
       "      <td>3</td>\n",
       "      <td>0</td>\n",
       "      <td>1</td>\n",
       "      <td>0.0</td>\n",
       "      <td>(24.0, 34.0]</td>\n",
       "    </tr>\n",
       "    <tr>\n",
       "      <th>3</th>\n",
       "      <td>49</td>\n",
       "      <td>1</td>\n",
       "      <td>3</td>\n",
       "      <td>0</td>\n",
       "      <td>1</td>\n",
       "      <td>0.0</td>\n",
       "      <td>(44.0, 54.0]</td>\n",
       "    </tr>\n",
       "    <tr>\n",
       "      <th>4</th>\n",
       "      <td>47</td>\n",
       "      <td>1</td>\n",
       "      <td>11</td>\n",
       "      <td>0</td>\n",
       "      <td>1</td>\n",
       "      <td>0.0</td>\n",
       "      <td>(44.0, 54.0]</td>\n",
       "    </tr>\n",
       "  </tbody>\n",
       "</table>\n",
       "</div>"
      ],
      "text/plain": [
       "   Age  Gender  Impressions  Clicks  Signed_In  CTR      age_groups\n",
       "0   36       0            3       0          1  0.0    (34.0, 44.0]\n",
       "1   73       1            3       0          1  0.0  (64.0, 1000.0]\n",
       "2   30       0            3       0          1  0.0    (24.0, 34.0]\n",
       "3   49       1            3       0          1  0.0    (44.0, 54.0]\n",
       "4   47       1           11       0          1  0.0    (44.0, 54.0]"
      ]
     },
     "execution_count": 31,
     "metadata": {},
     "output_type": "execute_result"
    }
   ],
   "source": [
    "df_sin.head()  #there it is"
   ]
  },
  {
   "cell_type": "markdown",
   "metadata": {},
   "source": [
    "Always check what is happening with new columns before proceeding--> reminder for myself"
   ]
  },
  {
   "cell_type": "code",
   "execution_count": 32,
   "metadata": {},
   "outputs": [
    {
     "data": {
      "image/png": "[encoded data removed]",
      "text/plain": [
       "<Figure size 432x288 with 1 Axes>"
      ]
     },
     "metadata": {
      "needs_background": "light"
     },
     "output_type": "display_data"
    }
   ],
   "source": [
    "df_sin['age_groups'].value_counts().sort_index().plot(kind='bar',\n",
    "                                                            grid=False)\n",
    "plt.xlabel('Age Group')\n",
    "plt.ylabel('Number of users')\n",
    "plt.tight_layout()\n",
    "plt.show()"
   ]
  },
  {
   "cell_type": "markdown",
   "metadata": {},
   "source": [
    "Now I will determine the pairs of age groups where the difference in mean CTR is statistically significant at a Bonferroni corrected family wise error rate of 0.05. Collectngi the p-values and the difference of the means for each pair and storing these results in a DataFrame is curucial."
   ]
  },
  {
   "cell_type": "code",
   "execution_count": 33,
   "metadata": {},
   "outputs": [],
   "source": [
    "results = pd.DataFrame()\n",
    "combos = combinations(pd.unique(df_sin['age_groups']), 2)\n",
    "for age_group_1, age_group_2 in combos:\n",
    "    age_group_1_ctr = df_sin[df_sin.age_groups == age_group_1]['CTR']\n",
    "    age_group_2_ctr = df_sin[df_sin.age_groups == age_group_2]['CTR']\n",
    "    p_value = stats.ttest_ind(age_group_1_ctr, age_group_2_ctr, equal_var=True)[1]\n",
    "    age_group_1_ctr_mean = age_group_1_ctr.mean()\n",
    "    age_group_2_ctr_mean = age_group_2_ctr.mean()\n",
    "    diff = age_group_1_ctr_mean-age_group_2_ctr_mean\n",
    "    absolute_diff = abs(age_group_1_ctr_mean-age_group_2_ctr_mean)\n",
    "    results = results.append({\n",
    "              'first_age_group':age_group_1, 'second_age_group':age_group_2, \n",
    "              'first_group_mean':age_group_1_ctr_mean, 'second_group_mean':age_group_2_ctr_mean,\n",
    "              'mean_diff':diff, 'absolute_mean_diff':absolute_diff, 'p_value':p_value},\n",
    "              ignore_index=True)\n",
    "\n",
    "results = results[['first_age_group', 'second_age_group', \n",
    "                   'first_group_mean', 'second_group_mean', \n",
    "                   'mean_diff', 'absolute_mean_diff', 'p_value']]\n",
    "# print(results[results['p_value'] < alpha].sort_values('absolute_mean_diff', ascending=False))\n",
    "# print(results[results['p_value'] < alpha].sort_values('p_value', ascending=False))\n",
    "# print(results[results['p_value'] > alpha].sort_values('absolute_mean_diff', ascending=False))\n",
    "# print(results[results['p_value'] > alpha].sort_values('p_value', ascending=False))"
   ]
  },
  {
   "cell_type": "code",
   "execution_count": 39,
   "metadata": {},
   "outputs": [
    {
     "data": {
      "text/plain": [
       "0.002173913043478261"
      ]
     },
     "execution_count": 39,
     "metadata": {},
     "output_type": "execute_result"
    }
   ],
   "source": [
    "alpha #reminder"
   ]
  },
  {
   "cell_type": "markdown",
   "metadata": {},
   "source": [
    "Following table presents us the differences between age groups that are significant, sorted in accordance to absolute_mean_diff."
   ]
  },
  {
   "cell_type": "code",
   "execution_count": 34,
   "metadata": {},
   "outputs": [
    {
     "data": {
      "text/html": [
       "<div>\n",
       "<style>\n",
       "    .dataframe thead tr:only-child th {\n",
       "        text-align: right;\n",
       "    }\n",
       "\n",
       "    .dataframe thead th {\n",
       "        text-align: left;\n",
       "    }\n",
       "\n",
       "    .dataframe tbody tr th {\n",
       "        vertical-align: top;\n",
       "    }\n",
       "</style>\n",
       "<table border=\"1\" class=\"dataframe\">\n",
       "  <thead>\n",
       "    <tr style=\"text-align: right;\">\n",
       "      <th></th>\n",
       "      <th>first_age_group</th>\n",
       "      <th>second_age_group</th>\n",
       "      <th>first_group_mean</th>\n",
       "      <th>second_group_mean</th>\n",
       "      <th>mean_diff</th>\n",
       "      <th>absolute_mean_diff</th>\n",
       "      <th>p_value</th>\n",
       "    </tr>\n",
       "  </thead>\n",
       "  <tbody>\n",
       "    <tr>\n",
       "      <th>9</th>\n",
       "      <td>(64.0, 1000.0]</td>\n",
       "      <td>(18.0, 24.0]</td>\n",
       "      <td>0.029803</td>\n",
       "      <td>0.009720</td>\n",
       "      <td>0.020082</td>\n",
       "      <td>0.020082</td>\n",
       "      <td>1.918094e-300</td>\n",
       "    </tr>\n",
       "    <tr>\n",
       "      <th>7</th>\n",
       "      <td>(64.0, 1000.0]</td>\n",
       "      <td>(44.0, 54.0]</td>\n",
       "      <td>0.029803</td>\n",
       "      <td>0.009958</td>\n",
       "      <td>0.019845</td>\n",
       "      <td>0.019845</td>\n",
       "      <td>0.000000e+00</td>\n",
       "    </tr>\n",
       "    <tr>\n",
       "      <th>6</th>\n",
       "      <td>(64.0, 1000.0]</td>\n",
       "      <td>(24.0, 34.0]</td>\n",
       "      <td>0.029803</td>\n",
       "      <td>0.010146</td>\n",
       "      <td>0.019656</td>\n",
       "      <td>0.019656</td>\n",
       "      <td>0.000000e+00</td>\n",
       "    </tr>\n",
       "    <tr>\n",
       "      <th>0</th>\n",
       "      <td>(34.0, 44.0]</td>\n",
       "      <td>(64.0, 1000.0]</td>\n",
       "      <td>0.010286</td>\n",
       "      <td>0.029803</td>\n",
       "      <td>-0.019516</td>\n",
       "      <td>0.019516</td>\n",
       "      <td>0.000000e+00</td>\n",
       "    </tr>\n",
       "    <tr>\n",
       "      <th>18</th>\n",
       "      <td>(6.999, 18.0]</td>\n",
       "      <td>(18.0, 24.0]</td>\n",
       "      <td>0.026621</td>\n",
       "      <td>0.009720</td>\n",
       "      <td>0.016900</td>\n",
       "      <td>0.016900</td>\n",
       "      <td>1.614766e-189</td>\n",
       "    </tr>\n",
       "    <tr>\n",
       "      <th>15</th>\n",
       "      <td>(44.0, 54.0]</td>\n",
       "      <td>(6.999, 18.0]</td>\n",
       "      <td>0.009958</td>\n",
       "      <td>0.026621</td>\n",
       "      <td>-0.016663</td>\n",
       "      <td>0.016663</td>\n",
       "      <td>7.660566e-254</td>\n",
       "    </tr>\n",
       "    <tr>\n",
       "      <th>12</th>\n",
       "      <td>(24.0, 34.0]</td>\n",
       "      <td>(6.999, 18.0]</td>\n",
       "      <td>0.010146</td>\n",
       "      <td>0.026621</td>\n",
       "      <td>-0.016474</td>\n",
       "      <td>0.016474</td>\n",
       "      <td>7.660450e-233</td>\n",
       "    </tr>\n",
       "    <tr>\n",
       "      <th>3</th>\n",
       "      <td>(34.0, 44.0]</td>\n",
       "      <td>(6.999, 18.0]</td>\n",
       "      <td>0.010286</td>\n",
       "      <td>0.026621</td>\n",
       "      <td>-0.016334</td>\n",
       "      <td>0.016334</td>\n",
       "      <td>2.732691e-248</td>\n",
       "    </tr>\n",
       "    <tr>\n",
       "      <th>20</th>\n",
       "      <td>(18.0, 24.0]</td>\n",
       "      <td>(54.0, 64.0]</td>\n",
       "      <td>0.009720</td>\n",
       "      <td>0.020307</td>\n",
       "      <td>-0.010586</td>\n",
       "      <td>0.010586</td>\n",
       "      <td>9.745420e-121</td>\n",
       "    </tr>\n",
       "    <tr>\n",
       "      <th>17</th>\n",
       "      <td>(44.0, 54.0]</td>\n",
       "      <td>(54.0, 64.0]</td>\n",
       "      <td>0.009958</td>\n",
       "      <td>0.020307</td>\n",
       "      <td>-0.010349</td>\n",
       "      <td>0.010349</td>\n",
       "      <td>2.525428e-171</td>\n",
       "    </tr>\n",
       "    <tr>\n",
       "      <th>14</th>\n",
       "      <td>(24.0, 34.0]</td>\n",
       "      <td>(54.0, 64.0]</td>\n",
       "      <td>0.010146</td>\n",
       "      <td>0.020307</td>\n",
       "      <td>-0.010160</td>\n",
       "      <td>0.010160</td>\n",
       "      <td>1.091699e-153</td>\n",
       "    </tr>\n",
       "    <tr>\n",
       "      <th>5</th>\n",
       "      <td>(34.0, 44.0]</td>\n",
       "      <td>(54.0, 64.0]</td>\n",
       "      <td>0.010286</td>\n",
       "      <td>0.020307</td>\n",
       "      <td>-0.010020</td>\n",
       "      <td>0.010020</td>\n",
       "      <td>1.005251e-166</td>\n",
       "    </tr>\n",
       "    <tr>\n",
       "      <th>10</th>\n",
       "      <td>(64.0, 1000.0]</td>\n",
       "      <td>(54.0, 64.0]</td>\n",
       "      <td>0.029803</td>\n",
       "      <td>0.020307</td>\n",
       "      <td>0.009496</td>\n",
       "      <td>0.009496</td>\n",
       "      <td>1.433124e-59</td>\n",
       "    </tr>\n",
       "    <tr>\n",
       "      <th>19</th>\n",
       "      <td>(6.999, 18.0]</td>\n",
       "      <td>(54.0, 64.0]</td>\n",
       "      <td>0.026621</td>\n",
       "      <td>0.020307</td>\n",
       "      <td>0.006314</td>\n",
       "      <td>0.006314</td>\n",
       "      <td>3.337216e-22</td>\n",
       "    </tr>\n",
       "    <tr>\n",
       "      <th>8</th>\n",
       "      <td>(64.0, 1000.0]</td>\n",
       "      <td>(6.999, 18.0]</td>\n",
       "      <td>0.029803</td>\n",
       "      <td>0.026621</td>\n",
       "      <td>0.003182</td>\n",
       "      <td>0.003182</td>\n",
       "      <td>4.590436e-05</td>\n",
       "    </tr>\n",
       "  </tbody>\n",
       "</table>\n",
       "</div>"
      ],
      "text/plain": [
       "   first_age_group second_age_group  first_group_mean  second_group_mean  \\\n",
       "9   (64.0, 1000.0]     (18.0, 24.0]          0.029803           0.009720   \n",
       "7   (64.0, 1000.0]     (44.0, 54.0]          0.029803           0.009958   \n",
       "6   (64.0, 1000.0]     (24.0, 34.0]          0.029803           0.010146   \n",
       "0     (34.0, 44.0]   (64.0, 1000.0]          0.010286           0.029803   \n",
       "18   (6.999, 18.0]     (18.0, 24.0]          0.026621           0.009720   \n",
       "15    (44.0, 54.0]    (6.999, 18.0]          0.009958           0.026621   \n",
       "12    (24.0, 34.0]    (6.999, 18.0]          0.010146           0.026621   \n",
       "3     (34.0, 44.0]    (6.999, 18.0]          0.010286           0.026621   \n",
       "20    (18.0, 24.0]     (54.0, 64.0]          0.009720           0.020307   \n",
       "17    (44.0, 54.0]     (54.0, 64.0]          0.009958           0.020307   \n",
       "14    (24.0, 34.0]     (54.0, 64.0]          0.010146           0.020307   \n",
       "5     (34.0, 44.0]     (54.0, 64.0]          0.010286           0.020307   \n",
       "10  (64.0, 1000.0]     (54.0, 64.0]          0.029803           0.020307   \n",
       "19   (6.999, 18.0]     (54.0, 64.0]          0.026621           0.020307   \n",
       "8   (64.0, 1000.0]    (6.999, 18.0]          0.029803           0.026621   \n",
       "\n",
       "    mean_diff  absolute_mean_diff        p_value  \n",
       "9    0.020082            0.020082  1.918094e-300  \n",
       "7    0.019845            0.019845   0.000000e+00  \n",
       "6    0.019656            0.019656   0.000000e+00  \n",
       "0   -0.019516            0.019516   0.000000e+00  \n",
       "18   0.016900            0.016900  1.614766e-189  \n",
       "15  -0.016663            0.016663  7.660566e-254  \n",
       "12  -0.016474            0.016474  7.660450e-233  \n",
       "3   -0.016334            0.016334  2.732691e-248  \n",
       "20  -0.010586            0.010586  9.745420e-121  \n",
       "17  -0.010349            0.010349  2.525428e-171  \n",
       "14  -0.010160            0.010160  1.091699e-153  \n",
       "5   -0.010020            0.010020  1.005251e-166  \n",
       "10   0.009496            0.009496   1.433124e-59  \n",
       "19   0.006314            0.006314   3.337216e-22  \n",
       "8    0.003182            0.003182   4.590436e-05  "
      ]
     },
     "execution_count": 34,
     "metadata": {},
     "output_type": "execute_result"
    }
   ],
   "source": [
    "results[results['p_value'] < alpha].sort_values('absolute_mean_diff', ascending=False)"
   ]
  },
  {
   "cell_type": "markdown",
   "metadata": {},
   "source": [
    "Following table presents us the differences between age groups that are significant, sorted in accordance to p_value."
   ]
  },
  {
   "cell_type": "code",
   "execution_count": 35,
   "metadata": {},
   "outputs": [
    {
     "data": {
      "text/html": [
       "<div>\n",
       "<style>\n",
       "    .dataframe thead tr:only-child th {\n",
       "        text-align: right;\n",
       "    }\n",
       "\n",
       "    .dataframe thead th {\n",
       "        text-align: left;\n",
       "    }\n",
       "\n",
       "    .dataframe tbody tr th {\n",
       "        vertical-align: top;\n",
       "    }\n",
       "</style>\n",
       "<table border=\"1\" class=\"dataframe\">\n",
       "  <thead>\n",
       "    <tr style=\"text-align: right;\">\n",
       "      <th></th>\n",
       "      <th>first_age_group</th>\n",
       "      <th>second_age_group</th>\n",
       "      <th>first_group_mean</th>\n",
       "      <th>second_group_mean</th>\n",
       "      <th>mean_diff</th>\n",
       "      <th>absolute_mean_diff</th>\n",
       "      <th>p_value</th>\n",
       "    </tr>\n",
       "  </thead>\n",
       "  <tbody>\n",
       "    <tr>\n",
       "      <th>8</th>\n",
       "      <td>(64.0, 1000.0]</td>\n",
       "      <td>(6.999, 18.0]</td>\n",
       "      <td>0.029803</td>\n",
       "      <td>0.026621</td>\n",
       "      <td>0.003182</td>\n",
       "      <td>0.003182</td>\n",
       "      <td>4.590436e-05</td>\n",
       "    </tr>\n",
       "    <tr>\n",
       "      <th>19</th>\n",
       "      <td>(6.999, 18.0]</td>\n",
       "      <td>(54.0, 64.0]</td>\n",
       "      <td>0.026621</td>\n",
       "      <td>0.020307</td>\n",
       "      <td>0.006314</td>\n",
       "      <td>0.006314</td>\n",
       "      <td>3.337216e-22</td>\n",
       "    </tr>\n",
       "    <tr>\n",
       "      <th>10</th>\n",
       "      <td>(64.0, 1000.0]</td>\n",
       "      <td>(54.0, 64.0]</td>\n",
       "      <td>0.029803</td>\n",
       "      <td>0.020307</td>\n",
       "      <td>0.009496</td>\n",
       "      <td>0.009496</td>\n",
       "      <td>1.433124e-59</td>\n",
       "    </tr>\n",
       "    <tr>\n",
       "      <th>20</th>\n",
       "      <td>(18.0, 24.0]</td>\n",
       "      <td>(54.0, 64.0]</td>\n",
       "      <td>0.009720</td>\n",
       "      <td>0.020307</td>\n",
       "      <td>-0.010586</td>\n",
       "      <td>0.010586</td>\n",
       "      <td>9.745420e-121</td>\n",
       "    </tr>\n",
       "    <tr>\n",
       "      <th>14</th>\n",
       "      <td>(24.0, 34.0]</td>\n",
       "      <td>(54.0, 64.0]</td>\n",
       "      <td>0.010146</td>\n",
       "      <td>0.020307</td>\n",
       "      <td>-0.010160</td>\n",
       "      <td>0.010160</td>\n",
       "      <td>1.091699e-153</td>\n",
       "    </tr>\n",
       "    <tr>\n",
       "      <th>5</th>\n",
       "      <td>(34.0, 44.0]</td>\n",
       "      <td>(54.0, 64.0]</td>\n",
       "      <td>0.010286</td>\n",
       "      <td>0.020307</td>\n",
       "      <td>-0.010020</td>\n",
       "      <td>0.010020</td>\n",
       "      <td>1.005251e-166</td>\n",
       "    </tr>\n",
       "    <tr>\n",
       "      <th>17</th>\n",
       "      <td>(44.0, 54.0]</td>\n",
       "      <td>(54.0, 64.0]</td>\n",
       "      <td>0.009958</td>\n",
       "      <td>0.020307</td>\n",
       "      <td>-0.010349</td>\n",
       "      <td>0.010349</td>\n",
       "      <td>2.525428e-171</td>\n",
       "    </tr>\n",
       "    <tr>\n",
       "      <th>18</th>\n",
       "      <td>(6.999, 18.0]</td>\n",
       "      <td>(18.0, 24.0]</td>\n",
       "      <td>0.026621</td>\n",
       "      <td>0.009720</td>\n",
       "      <td>0.016900</td>\n",
       "      <td>0.016900</td>\n",
       "      <td>1.614766e-189</td>\n",
       "    </tr>\n",
       "    <tr>\n",
       "      <th>12</th>\n",
       "      <td>(24.0, 34.0]</td>\n",
       "      <td>(6.999, 18.0]</td>\n",
       "      <td>0.010146</td>\n",
       "      <td>0.026621</td>\n",
       "      <td>-0.016474</td>\n",
       "      <td>0.016474</td>\n",
       "      <td>7.660450e-233</td>\n",
       "    </tr>\n",
       "    <tr>\n",
       "      <th>3</th>\n",
       "      <td>(34.0, 44.0]</td>\n",
       "      <td>(6.999, 18.0]</td>\n",
       "      <td>0.010286</td>\n",
       "      <td>0.026621</td>\n",
       "      <td>-0.016334</td>\n",
       "      <td>0.016334</td>\n",
       "      <td>2.732691e-248</td>\n",
       "    </tr>\n",
       "    <tr>\n",
       "      <th>15</th>\n",
       "      <td>(44.0, 54.0]</td>\n",
       "      <td>(6.999, 18.0]</td>\n",
       "      <td>0.009958</td>\n",
       "      <td>0.026621</td>\n",
       "      <td>-0.016663</td>\n",
       "      <td>0.016663</td>\n",
       "      <td>7.660566e-254</td>\n",
       "    </tr>\n",
       "    <tr>\n",
       "      <th>9</th>\n",
       "      <td>(64.0, 1000.0]</td>\n",
       "      <td>(18.0, 24.0]</td>\n",
       "      <td>0.029803</td>\n",
       "      <td>0.009720</td>\n",
       "      <td>0.020082</td>\n",
       "      <td>0.020082</td>\n",
       "      <td>1.918094e-300</td>\n",
       "    </tr>\n",
       "    <tr>\n",
       "      <th>0</th>\n",
       "      <td>(34.0, 44.0]</td>\n",
       "      <td>(64.0, 1000.0]</td>\n",
       "      <td>0.010286</td>\n",
       "      <td>0.029803</td>\n",
       "      <td>-0.019516</td>\n",
       "      <td>0.019516</td>\n",
       "      <td>0.000000e+00</td>\n",
       "    </tr>\n",
       "    <tr>\n",
       "      <th>6</th>\n",
       "      <td>(64.0, 1000.0]</td>\n",
       "      <td>(24.0, 34.0]</td>\n",
       "      <td>0.029803</td>\n",
       "      <td>0.010146</td>\n",
       "      <td>0.019656</td>\n",
       "      <td>0.019656</td>\n",
       "      <td>0.000000e+00</td>\n",
       "    </tr>\n",
       "    <tr>\n",
       "      <th>7</th>\n",
       "      <td>(64.0, 1000.0]</td>\n",
       "      <td>(44.0, 54.0]</td>\n",
       "      <td>0.029803</td>\n",
       "      <td>0.009958</td>\n",
       "      <td>0.019845</td>\n",
       "      <td>0.019845</td>\n",
       "      <td>0.000000e+00</td>\n",
       "    </tr>\n",
       "  </tbody>\n",
       "</table>\n",
       "</div>"
      ],
      "text/plain": [
       "   first_age_group second_age_group  first_group_mean  second_group_mean  \\\n",
       "8   (64.0, 1000.0]    (6.999, 18.0]          0.029803           0.026621   \n",
       "19   (6.999, 18.0]     (54.0, 64.0]          0.026621           0.020307   \n",
       "10  (64.0, 1000.0]     (54.0, 64.0]          0.029803           0.020307   \n",
       "20    (18.0, 24.0]     (54.0, 64.0]          0.009720           0.020307   \n",
       "14    (24.0, 34.0]     (54.0, 64.0]          0.010146           0.020307   \n",
       "5     (34.0, 44.0]     (54.0, 64.0]          0.010286           0.020307   \n",
       "17    (44.0, 54.0]     (54.0, 64.0]          0.009958           0.020307   \n",
       "18   (6.999, 18.0]     (18.0, 24.0]          0.026621           0.009720   \n",
       "12    (24.0, 34.0]    (6.999, 18.0]          0.010146           0.026621   \n",
       "3     (34.0, 44.0]    (6.999, 18.0]          0.010286           0.026621   \n",
       "15    (44.0, 54.0]    (6.999, 18.0]          0.009958           0.026621   \n",
       "9   (64.0, 1000.0]     (18.0, 24.0]          0.029803           0.009720   \n",
       "0     (34.0, 44.0]   (64.0, 1000.0]          0.010286           0.029803   \n",
       "6   (64.0, 1000.0]     (24.0, 34.0]          0.029803           0.010146   \n",
       "7   (64.0, 1000.0]     (44.0, 54.0]          0.029803           0.009958   \n",
       "\n",
       "    mean_diff  absolute_mean_diff        p_value  \n",
       "8    0.003182            0.003182   4.590436e-05  \n",
       "19   0.006314            0.006314   3.337216e-22  \n",
       "10   0.009496            0.009496   1.433124e-59  \n",
       "20  -0.010586            0.010586  9.745420e-121  \n",
       "14  -0.010160            0.010160  1.091699e-153  \n",
       "5   -0.010020            0.010020  1.005251e-166  \n",
       "17  -0.010349            0.010349  2.525428e-171  \n",
       "18   0.016900            0.016900  1.614766e-189  \n",
       "12  -0.016474            0.016474  7.660450e-233  \n",
       "3   -0.016334            0.016334  2.732691e-248  \n",
       "15  -0.016663            0.016663  7.660566e-254  \n",
       "9    0.020082            0.020082  1.918094e-300  \n",
       "0   -0.019516            0.019516   0.000000e+00  \n",
       "6    0.019656            0.019656   0.000000e+00  \n",
       "7    0.019845            0.019845   0.000000e+00  "
      ]
     },
     "execution_count": 35,
     "metadata": {},
     "output_type": "execute_result"
    }
   ],
   "source": [
    "results[results['p_value'] < alpha].sort_values('p_value', ascending=False)"
   ]
  },
  {
   "cell_type": "markdown",
   "metadata": {},
   "source": [
    "### Analisis:\n",
    "\n",
    "(8,19,20,14)Not surprised! The most significant difference of conversion rates are between the highest and lowest available agegroups.\n",
    "\n",
    "(10) Comparison between (64.0, 1000.0] and (54.0, 64.0] interrupts the pattern. Interesting, I wonder why.\n",
    "\n",
    "\n",
    "\n"
   ]
  },
  {
   "cell_type": "markdown",
   "metadata": {},
   "source": [
    "Following table presents us the differences between age groups that are **not** significant, sorted in accordance to absolute_mean_diff."
   ]
  },
  {
   "cell_type": "code",
   "execution_count": 36,
   "metadata": {},
   "outputs": [
    {
     "data": {
      "text/html": [
       "<div>\n",
       "<style>\n",
       "    .dataframe thead tr:only-child th {\n",
       "        text-align: right;\n",
       "    }\n",
       "\n",
       "    .dataframe thead th {\n",
       "        text-align: left;\n",
       "    }\n",
       "\n",
       "    .dataframe tbody tr th {\n",
       "        vertical-align: top;\n",
       "    }\n",
       "</style>\n",
       "<table border=\"1\" class=\"dataframe\">\n",
       "  <thead>\n",
       "    <tr style=\"text-align: right;\">\n",
       "      <th></th>\n",
       "      <th>first_age_group</th>\n",
       "      <th>second_age_group</th>\n",
       "      <th>first_group_mean</th>\n",
       "      <th>second_group_mean</th>\n",
       "      <th>mean_diff</th>\n",
       "      <th>absolute_mean_diff</th>\n",
       "      <th>p_value</th>\n",
       "    </tr>\n",
       "  </thead>\n",
       "  <tbody>\n",
       "    <tr>\n",
       "      <th>4</th>\n",
       "      <td>(34.0, 44.0]</td>\n",
       "      <td>(18.0, 24.0]</td>\n",
       "      <td>0.010286</td>\n",
       "      <td>0.009720</td>\n",
       "      <td>0.000566</td>\n",
       "      <td>0.000566</td>\n",
       "      <td>0.089019</td>\n",
       "    </tr>\n",
       "    <tr>\n",
       "      <th>13</th>\n",
       "      <td>(24.0, 34.0]</td>\n",
       "      <td>(18.0, 24.0]</td>\n",
       "      <td>0.010146</td>\n",
       "      <td>0.009720</td>\n",
       "      <td>0.000426</td>\n",
       "      <td>0.000426</td>\n",
       "      <td>0.214711</td>\n",
       "    </tr>\n",
       "    <tr>\n",
       "      <th>2</th>\n",
       "      <td>(34.0, 44.0]</td>\n",
       "      <td>(44.0, 54.0]</td>\n",
       "      <td>0.010286</td>\n",
       "      <td>0.009958</td>\n",
       "      <td>0.000329</td>\n",
       "      <td>0.000329</td>\n",
       "      <td>0.234441</td>\n",
       "    </tr>\n",
       "    <tr>\n",
       "      <th>16</th>\n",
       "      <td>(44.0, 54.0]</td>\n",
       "      <td>(18.0, 24.0]</td>\n",
       "      <td>0.009958</td>\n",
       "      <td>0.009720</td>\n",
       "      <td>0.000237</td>\n",
       "      <td>0.000237</td>\n",
       "      <td>0.476879</td>\n",
       "    </tr>\n",
       "    <tr>\n",
       "      <th>11</th>\n",
       "      <td>(24.0, 34.0]</td>\n",
       "      <td>(44.0, 54.0]</td>\n",
       "      <td>0.010146</td>\n",
       "      <td>0.009958</td>\n",
       "      <td>0.000189</td>\n",
       "      <td>0.000189</td>\n",
       "      <td>0.514327</td>\n",
       "    </tr>\n",
       "    <tr>\n",
       "      <th>1</th>\n",
       "      <td>(34.0, 44.0]</td>\n",
       "      <td>(24.0, 34.0]</td>\n",
       "      <td>0.010286</td>\n",
       "      <td>0.010146</td>\n",
       "      <td>0.000140</td>\n",
       "      <td>0.000140</td>\n",
       "      <td>0.624837</td>\n",
       "    </tr>\n",
       "  </tbody>\n",
       "</table>\n",
       "</div>"
      ],
      "text/plain": [
       "   first_age_group second_age_group  first_group_mean  second_group_mean  \\\n",
       "4     (34.0, 44.0]     (18.0, 24.0]          0.010286           0.009720   \n",
       "13    (24.0, 34.0]     (18.0, 24.0]          0.010146           0.009720   \n",
       "2     (34.0, 44.0]     (44.0, 54.0]          0.010286           0.009958   \n",
       "16    (44.0, 54.0]     (18.0, 24.0]          0.009958           0.009720   \n",
       "11    (24.0, 34.0]     (44.0, 54.0]          0.010146           0.009958   \n",
       "1     (34.0, 44.0]     (24.0, 34.0]          0.010286           0.010146   \n",
       "\n",
       "    mean_diff  absolute_mean_diff   p_value  \n",
       "4    0.000566            0.000566  0.089019  \n",
       "13   0.000426            0.000426  0.214711  \n",
       "2    0.000329            0.000329  0.234441  \n",
       "16   0.000237            0.000237  0.476879  \n",
       "11   0.000189            0.000189  0.514327  \n",
       "1    0.000140            0.000140  0.624837  "
      ]
     },
     "execution_count": 36,
     "metadata": {},
     "output_type": "execute_result"
    }
   ],
   "source": [
    "results[results['p_value'] > alpha].sort_values('absolute_mean_diff', ascending=False)"
   ]
  },
  {
   "cell_type": "markdown",
   "metadata": {},
   "source": [
    "Following table presents us the differences between age groups that are **not** significant, sorted in accordance to p_value."
   ]
  },
  {
   "cell_type": "code",
   "execution_count": 37,
   "metadata": {},
   "outputs": [
    {
     "data": {
      "text/html": [
       "<div>\n",
       "<style>\n",
       "    .dataframe thead tr:only-child th {\n",
       "        text-align: right;\n",
       "    }\n",
       "\n",
       "    .dataframe thead th {\n",
       "        text-align: left;\n",
       "    }\n",
       "\n",
       "    .dataframe tbody tr th {\n",
       "        vertical-align: top;\n",
       "    }\n",
       "</style>\n",
       "<table border=\"1\" class=\"dataframe\">\n",
       "  <thead>\n",
       "    <tr style=\"text-align: right;\">\n",
       "      <th></th>\n",
       "      <th>first_age_group</th>\n",
       "      <th>second_age_group</th>\n",
       "      <th>first_group_mean</th>\n",
       "      <th>second_group_mean</th>\n",
       "      <th>mean_diff</th>\n",
       "      <th>absolute_mean_diff</th>\n",
       "      <th>p_value</th>\n",
       "    </tr>\n",
       "  </thead>\n",
       "  <tbody>\n",
       "    <tr>\n",
       "      <th>1</th>\n",
       "      <td>(34.0, 44.0]</td>\n",
       "      <td>(24.0, 34.0]</td>\n",
       "      <td>0.010286</td>\n",
       "      <td>0.010146</td>\n",
       "      <td>0.000140</td>\n",
       "      <td>0.000140</td>\n",
       "      <td>0.624837</td>\n",
       "    </tr>\n",
       "    <tr>\n",
       "      <th>11</th>\n",
       "      <td>(24.0, 34.0]</td>\n",
       "      <td>(44.0, 54.0]</td>\n",
       "      <td>0.010146</td>\n",
       "      <td>0.009958</td>\n",
       "      <td>0.000189</td>\n",
       "      <td>0.000189</td>\n",
       "      <td>0.514327</td>\n",
       "    </tr>\n",
       "    <tr>\n",
       "      <th>16</th>\n",
       "      <td>(44.0, 54.0]</td>\n",
       "      <td>(18.0, 24.0]</td>\n",
       "      <td>0.009958</td>\n",
       "      <td>0.009720</td>\n",
       "      <td>0.000237</td>\n",
       "      <td>0.000237</td>\n",
       "      <td>0.476879</td>\n",
       "    </tr>\n",
       "    <tr>\n",
       "      <th>2</th>\n",
       "      <td>(34.0, 44.0]</td>\n",
       "      <td>(44.0, 54.0]</td>\n",
       "      <td>0.010286</td>\n",
       "      <td>0.009958</td>\n",
       "      <td>0.000329</td>\n",
       "      <td>0.000329</td>\n",
       "      <td>0.234441</td>\n",
       "    </tr>\n",
       "    <tr>\n",
       "      <th>13</th>\n",
       "      <td>(24.0, 34.0]</td>\n",
       "      <td>(18.0, 24.0]</td>\n",
       "      <td>0.010146</td>\n",
       "      <td>0.009720</td>\n",
       "      <td>0.000426</td>\n",
       "      <td>0.000426</td>\n",
       "      <td>0.214711</td>\n",
       "    </tr>\n",
       "    <tr>\n",
       "      <th>4</th>\n",
       "      <td>(34.0, 44.0]</td>\n",
       "      <td>(18.0, 24.0]</td>\n",
       "      <td>0.010286</td>\n",
       "      <td>0.009720</td>\n",
       "      <td>0.000566</td>\n",
       "      <td>0.000566</td>\n",
       "      <td>0.089019</td>\n",
       "    </tr>\n",
       "  </tbody>\n",
       "</table>\n",
       "</div>"
      ],
      "text/plain": [
       "   first_age_group second_age_group  first_group_mean  second_group_mean  \\\n",
       "1     (34.0, 44.0]     (24.0, 34.0]          0.010286           0.010146   \n",
       "11    (24.0, 34.0]     (44.0, 54.0]          0.010146           0.009958   \n",
       "16    (44.0, 54.0]     (18.0, 24.0]          0.009958           0.009720   \n",
       "2     (34.0, 44.0]     (44.0, 54.0]          0.010286           0.009958   \n",
       "13    (24.0, 34.0]     (18.0, 24.0]          0.010146           0.009720   \n",
       "4     (34.0, 44.0]     (18.0, 24.0]          0.010286           0.009720   \n",
       "\n",
       "    mean_diff  absolute_mean_diff   p_value  \n",
       "1    0.000140            0.000140  0.624837  \n",
       "11   0.000189            0.000189  0.514327  \n",
       "16   0.000237            0.000237  0.476879  \n",
       "2    0.000329            0.000329  0.234441  \n",
       "13   0.000426            0.000426  0.214711  \n",
       "4    0.000566            0.000566  0.089019  "
      ]
     },
     "execution_count": 37,
     "metadata": {},
     "output_type": "execute_result"
    }
   ],
   "source": [
    "results[results['p_value'] > alpha].sort_values('p_value', ascending=False)"
   ]
  },
  {
   "cell_type": "markdown",
   "metadata": {},
   "source": [
    "#### Conclusion:\n",
    "    \n",
    "The generation gap is real! Customers in further distinct age groups actually leads to significantly differing conversion rates."
   ]
  }
 ],
 "metadata": {
  "kernelspec": {
   "display_name": "Python 3",
   "language": "python",
   "name": "python3"
  },
  "language_info": {
   "codemirror_mode": {
    "name": "ipython",
    "version": 3
   },
   "file_extension": ".py",
   "mimetype": "text/x-python",
   "name": "python",
   "nbconvert_exporter": "python",
   "pygments_lexer": "ipython3",
   "version": "3.6.3"
  }
 },
 "nbformat": 4,
 "nbformat_minor": 2
}
